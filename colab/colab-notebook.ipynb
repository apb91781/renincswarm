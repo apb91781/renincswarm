{
  "cells": [
    {
      "cell_type": "markdown",
      "metadata": {
        "id": "view-in-github",
        "colab_type": "text"
      },
      "source": [
        "<a href=\"https://colab.research.google.com/github/apb91781/renincswarm/blob/main/colab/colab-notebook.ipynb\" target=\"_parent\"><img src=\"https://colab.research.google.com/assets/colab-badge.svg\" alt=\"Open In Colab\"/></a>"
      ]
    },
    {
      "cell_type": "code",
      "execution_count": 1,
      "metadata": {
        "id": "Vue_0PUh7QVj"
      },
      "outputs": [],
      "source": [
        "#### PICK ONE: This node for temporary install\n",
        "SWARMPATH = '/content/'"
      ]
    },
    {
      "cell_type": "code",
      "execution_count": null,
      "metadata": {
        "id": "2qhu9QFY7QVk"
      },
      "outputs": [],
      "source": [
        "#### PICK ONE: *OR* this node for install in google drive\n",
        "from google.colab import drive\n",
        "drive.mount('/content/drive')\n",
        "SWARMPATH = '/content/drive/MyDrive'\n",
        "\n",
        "# Colab breaks venvs, and doesn't save anything valid to drive, so just screw it do a global install of pip reqs if we used a comfy backend in the drive\n",
        "!if [[ -f \"$SWARMPATH/StableSwarmUI/dlbackend/ComfyUI/requirements.txt\" ]]; then rm -rf $SWARMPATH/StableSwarmUI/dlbackend/ComfyUI/venv/; pip install -r $SWARMPATH/StableSwarmUI/dlbackend/ComfyUI/requirements.txt; fi"
      ]
    },
    {
      "cell_type": "code",
      "execution_count": 2,
      "metadata": {
        "id": "Sg0HeYwkM48V",
        "outputId": "b457a0e7-7d34-45f3-ae50-4dcffcceb7a1",
        "colab": {
          "base_uri": "https://localhost:8080/"
        }
      },
      "source": [
        "# Alright, launch it! Watch the output for a Cloudflare URL\n",
        "%cd SwarmUI\n",
        "\n",
        "!bash ./launch-linux.sh --launch_mode none --cloudflared-path cloudflared"
      ]
    },
    {
      "cell_type": "markdown",
      "source": [],
      "metadata": {
        "id": "_J4BLkTy9XKE"
      }
    }
  ],
  "metadata": {
    "accelerator": "GPU",
    "colab": {
      "gpuType": "T4",
      "provenance": [],
      "include_colab_link": true
    },
    "kernelspec": {
      "display_name": "Python 3",
      "name": "python3"
    },
    "language_info": {
      "name": "python"
    }
  },
  "nbformat": 4,
  "nbformat_minor": 0
}
